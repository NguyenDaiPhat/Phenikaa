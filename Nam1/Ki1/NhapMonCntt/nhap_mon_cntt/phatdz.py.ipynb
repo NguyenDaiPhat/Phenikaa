{
 "cells": [
  {
   "cell_type": "code",
   "execution_count": 4,
   "id": "2c1cd5f0",
   "metadata": {},
   "outputs": [],
   "source": [
    "import sys\n",
    "import random"
   ]
  },
  {
   "cell_type": "code",
   "execution_count": 5,
   "id": "62b85442",
   "metadata": {},
   "outputs": [],
   "source": [
    "def say_hello( user ):\n",
    "    # Say hello in different languages\n",
    "    prefix_dict = {\n",
    "        1: \"Hello \",\n",
    "        2: \"Xin chao \",\n",
    "        3: \"ni hao \"\n",
    "    }\n",
    "    key =random.randint(1,3)\n",
    "    print(prefix_dict[key] + user)"
   ]
  },
  {
   "cell_type": "code",
   "execution_count": 6,
   "id": "1afad79a",
   "metadata": {},
   "outputs": [
    {
     "name": "stdout",
     "output_type": "stream",
     "text": [
      "Xin chao phatdz\n"
     ]
    }
   ],
   "source": [
    "say_hello(\"phatdz\")"
   ]
  }
 ],
 "metadata": {
  "kernelspec": {
   "display_name": "Python 3 (ipykernel)",
   "language": "python",
   "name": "python3"
  },
  "language_info": {
   "codemirror_mode": {
    "name": "ipython",
    "version": 3
   },
   "file_extension": ".py",
   "mimetype": "text/x-python",
   "name": "python",
   "nbconvert_exporter": "python",
   "pygments_lexer": "ipython3",
   "version": "3.9.7"
  }
 },
 "nbformat": 4,
 "nbformat_minor": 5
}
