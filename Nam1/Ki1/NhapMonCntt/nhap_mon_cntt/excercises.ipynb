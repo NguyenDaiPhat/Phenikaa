{
 "cells": [
  {
   "cell_type": "markdown",
   "metadata": {
    "deletable": false,
    "editable": false,
    "nbgrader": {
     "cell_type": "markdown",
     "checksum": "0e538ff0f5154ec89d27440bed7d2a3b",
     "grade": false,
     "grade_id": "cell-f18c0c094b974fc7",
     "locked": true,
     "schema_version": 3,
     "solution": false,
     "task": false
    }
   },
   "source": [
    "# Bài tập về nhà\n",
    "\n",
    "Bài tập về nhà này giúp bạn làm quen với cách làm bài tập và nộp bài trên hệ thống Jupyterhub."
   ]
  },
  {
   "cell_type": "markdown",
   "metadata": {
    "deletable": false,
    "editable": false,
    "nbgrader": {
     "cell_type": "markdown",
     "checksum": "a1d6ee29664b366c2e98e73ae90718c1",
     "grade": false,
     "grade_id": "cell-f498731c6ec70fd3",
     "locked": true,
     "schema_version": 3,
     "solution": false,
     "task": false
    }
   },
   "source": [
    "## Thông tin sinh viên: Nhập tên và MSSV\n",
    "\n",
    "- Nhập tên và mssv vào hai biến \"name\" và \"student_id\"\n",
    "\n",
    "- Chú ý: xoá dòng \"raise NotImplementedError()\" và nhập code của bạn vào, ví dụ:\n",
    "    ```\n",
    "    name = 'Mai Xuan Trang'\n",
    "    student_id = 19001900\n",
    "    ```"
   ]
  },
  {
   "cell_type": "code",
   "execution_count": 1,
   "metadata": {
    "deletable": false,
    "nbgrader": {
     "cell_type": "code",
     "checksum": "20297ef0fd8ab44defac247058fd6e33",
     "grade": false,
     "grade_id": "cell-447ee42959aff377",
     "locked": false,
     "schema_version": 3,
     "solution": true,
     "task": false
    }
   },
   "outputs": [],
   "source": [
    "# Nhập tên và mssv vào hai biến \"name\" và \"student_id\"\n",
    "\n",
    "# YOUR CODE HERE\n",
    "name = 'Nguyen Dai Phat'\n",
    "studen_id = 21010625"
   ]
  },
  {
   "cell_type": "code",
   "execution_count": null,
   "metadata": {
    "deletable": false,
    "editable": false,
    "nbgrader": {
     "cell_type": "code",
     "checksum": "da62fd20753e398f4cc02aab148daf58",
     "grade": true,
     "grade_id": "cell-275be5c13bbeba29",
     "locked": true,
     "points": 1,
     "schema_version": 3,
     "solution": false,
     "task": false
    }
   },
   "outputs": [],
   "source": []
  },
  {
   "cell_type": "markdown",
   "metadata": {
    "deletable": false,
    "editable": false,
    "nbgrader": {
     "cell_type": "markdown",
     "checksum": "0505019aeb7a73d3d8de42fef17d2aaa",
     "grade": false,
     "grade_id": "cell-0a434c4b5199e910",
     "locked": true,
     "schema_version": 3,
     "solution": false,
     "task": false
    }
   },
   "source": [
    "##  Bài 1: Câu hỏi trắc nghiệm\n",
    "\n",
    "\n",
    "Làm thế nào để chạy một cell trên Jupyter Notebook dùng bàn phím? Lựa chọn câu trả lời đúng?\n",
    "\n",
    "1. shift + option\n",
    "2. command + enter\n",
    "3. shift + enter\n",
    "4. enter\n",
    "\n",
    "Chú ý Gan bien \"answer\" la cau tra loi cua ban"
   ]
  },
  {
   "cell_type": "code",
   "execution_count": 1,
   "metadata": {
    "deletable": false,
    "nbgrader": {
     "cell_type": "code",
     "checksum": "49ab6c368c70c36077cd19b2fa51ce25",
     "grade": false,
     "grade_id": "cell-a915af0bfc6146ea",
     "locked": false,
     "schema_version": 3,
     "solution": true,
     "task": false
    }
   },
   "outputs": [],
   "source": [
    "# Gan bien \"answer\" la cau tra loi cua ban\n",
    "# Xoá dòng \"raise NotImplementedError()\" và nhập code của bạn vào\n",
    "\n",
    "# YOUR CODE HERE\n",
    "answer = 3"
   ]
  },
  {
   "cell_type": "code",
   "execution_count": null,
   "metadata": {
    "deletable": false,
    "editable": false,
    "nbgrader": {
     "cell_type": "code",
     "checksum": "74195acae0cbde246854a29ab0185064",
     "grade": true,
     "grade_id": "cell-7ff08072b0c871ff",
     "locked": true,
     "points": 3,
     "schema_version": 3,
     "solution": false,
     "task": false
    }
   },
   "outputs": [],
   "source": []
  },
  {
   "cell_type": "markdown",
   "metadata": {
    "deletable": false,
    "editable": false,
    "nbgrader": {
     "cell_type": "markdown",
     "checksum": "09b3d40ba3d90f90320e31e771fc7824",
     "grade": false,
     "grade_id": "cell-a2c3fe85bb14299b",
     "locked": true,
     "schema_version": 3,
     "solution": false,
     "task": false
    }
   },
   "source": [
    "## Bài 2: Phần viết code\n",
    "\n",
    "Viết hàm \"check_fizzbuzz\" để kiểm tra một số là với các điều kiện như sau:\n",
    "- Trả về \"fizz\" nếu số đó chia hết cho 3\n",
    "- Trả về \"buzz\" nếu số đó chia hết cho 5\n",
    "- Trả về \"fizzbuzz\" nếu số đó vừa chia hết cho 3, vừa chia hết cho 5.\n",
    "- Trả về số đó nếu không rời vào các trường hợp trên"
   ]
  },
  {
   "cell_type": "code",
   "execution_count": 2,
   "metadata": {
    "deletable": false,
    "nbgrader": {
     "cell_type": "code",
     "checksum": "887ea711d5f4bbb368d2e1def9fb154a",
     "grade": false,
     "grade_id": "cell-56b8e7f4d4c47ac3",
     "locked": false,
     "schema_version": 3,
     "solution": true,
     "task": false
    }
   },
   "outputs": [],
   "source": [
    "def check_fizzbuzz(x):\n",
    "    # Xoá dòng \"raise NotImplementedError()\" và nhập code của bạn vào\n",
    "    # YOUR CODE HERE\n",
    "    if x%3==0 and x%5==0 :\n",
    "        print ('fizzbuzz')\n",
    "    elif x%3==0 :\n",
    "        print ('fizz')\n",
    "    elif x%5==0 :\n",
    "        print ('buzz')\n",
    "    else :\n",
    "        print (x)"
   ]
  },
  {
   "cell_type": "markdown",
   "metadata": {
    "deletable": false,
    "editable": false,
    "nbgrader": {
     "cell_type": "markdown",
     "checksum": "ee140a8527c5759772184b8c2ff9b03e",
     "grade": false,
     "grade_id": "cell-35cd9ce8819ca797",
     "locked": true,
     "schema_version": 3,
     "solution": false,
     "task": false
    }
   },
   "source": [
    "Ví dụ: khi chạy hàm hàm `check_fizzbuzz(10)` chương trình nên trả về `buzz`:"
   ]
  },
  {
   "cell_type": "code",
   "execution_count": 3,
   "metadata": {},
   "outputs": [
    {
     "name": "stdout",
     "output_type": "stream",
     "text": [
      "fizzbuzz\n"
     ]
    }
   ],
   "source": [
    "check_fizzbuzz(45)"
   ]
  },
  {
   "cell_type": "code",
   "execution_count": null,
   "metadata": {
    "deletable": false,
    "editable": false,
    "nbgrader": {
     "cell_type": "code",
     "checksum": "64ceef16054443bd493e7d3902643e3e",
     "grade": true,
     "grade_id": "cell-4bd2bf0e9160d5b5",
     "locked": true,
     "points": 6,
     "schema_version": 3,
     "solution": false,
     "task": false
    }
   },
   "outputs": [],
   "source": []
  },
  {
   "cell_type": "markdown",
   "metadata": {},
   "source": [
    "## Nộp bài\n",
    "\n",
    "Follow the instructor's guide to submit your work."
   ]
  }
 ],
 "metadata": {
  "kernelspec": {
   "display_name": "Python 3 (ipykernel)",
   "language": "python",
   "name": "python3"
  },
  "language_info": {
   "codemirror_mode": {
    "name": "ipython",
    "version": 3
   },
   "file_extension": ".py",
   "mimetype": "text/x-python",
   "name": "python",
   "nbconvert_exporter": "python",
   "pygments_lexer": "ipython3",
   "version": "3.7.3"
  }
 },
 "nbformat": 4,
 "nbformat_minor": 4
}
