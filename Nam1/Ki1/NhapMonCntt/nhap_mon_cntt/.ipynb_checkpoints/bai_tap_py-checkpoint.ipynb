{
 "cells": [
  {
   "cell_type": "markdown",
   "id": "75cc06a0",
   "metadata": {},
   "source": [
    "## Bài 1:"
   ]
  },
  {
   "cell_type": "code",
   "execution_count": null,
   "id": "fa549beb",
   "metadata": {},
   "outputs": [],
   "source": [
    "a=int(input(\"nhap so a: \"))\n",
    "b=int(input(\"nhap so b: \"))\n",
    "c=int(input(\"nhap so c: \"))\n",
    "if a==0 and b==c:\n",
    "    print(\"pt vo so nghiem\")\n",
    "elif a==0 and b!=c:\n",
    "    print(\"pt vo nghiem\")\n",
    "elif a!=0:\n",
    "    print(\"pt co nghiem la: \",(c-b)/a)"
   ]
  },
  {
   "cell_type": "markdown",
   "id": "f497b460",
   "metadata": {},
   "source": [
    "## bài 2:"
   ]
  },
  {
   "cell_type": "code",
   "execution_count": null,
   "id": "9f099b20",
   "metadata": {},
   "outputs": [],
   "source": [
    "import math \n",
    "a=2\n",
    "b=6\n",
    "c=-4\n",
    "delta=b*b-(4*a*c)\n",
    "if delta>0:\n",
    "    print(\"pt co 2 nghiem \")\n",
    "    print((-b-math.sqrt(delta))/(2*a))\n",
    "    print((-b+math.sqrt(delta))/(2*a))\n",
    "elif delta<0:\n",
    "    print(\"pt vo nghiem\")\n",
    "else: print(\"pt co 1 nghiem \",-b/(2*a))"
   ]
  },
  {
   "cell_type": "markdown",
   "id": "3461bcca",
   "metadata": {},
   "source": [
    "## bài 3:"
   ]
  },
  {
   "cell_type": "code",
   "execution_count": null,
   "id": "3455985d",
   "metadata": {},
   "outputs": [],
   "source": [
    "import math \n",
    "\n",
    "a=int(input(\"nhap so a: \"))\n",
    "b=int(input(\"nhap so b: \"))\n",
    "c=int(input(\"nhap so c: \"))\n",
    "delta=b*b-(4*a*c)\n",
    "if delta>0:\n",
    "    print(\"pt co 2 nghiem \")\n",
    "    print((-b-math.sqrt(delta))/(2*a))\n",
    "    print((-b+math.sqrt(delta))/(2*a))\n",
    "elif delta<0:\n",
    "    print(\"pt vo nghiem\")\n",
    "else: print(\"pt co 1 nghiem \",-b/(2*a))"
   ]
  },
  {
   "cell_type": "code",
   "execution_count": null,
   "id": "9060bf2c",
   "metadata": {},
   "outputs": [],
   "source": []
  }
 ],
 "metadata": {
  "kernelspec": {
   "display_name": "Python 3 (ipykernel)",
   "language": "python",
   "name": "python3"
  },
  "language_info": {
   "codemirror_mode": {
    "name": "ipython",
    "version": 3
   },
   "file_extension": ".py",
   "mimetype": "text/x-python",
   "name": "python",
   "nbconvert_exporter": "python",
   "pygments_lexer": "ipython3",
   "version": "3.9.7"
  }
 },
 "nbformat": 4,
 "nbformat_minor": 5
}
